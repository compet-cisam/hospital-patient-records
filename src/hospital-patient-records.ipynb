{
 "cells": [
  {
   "cell_type": "markdown",
   "id": "ee0fd225",
   "metadata": {},
   "source": [
    "# Hospital Patient Records\n",
    "\n",
    "- Gabriel Borges"
   ]
  },
  {
   "cell_type": "code",
   "execution_count": null,
   "id": "c118f262",
   "metadata": {},
   "outputs": [],
   "source": []
  }
 ],
 "metadata": {
  "language_info": {
   "name": "python"
  }
 },
 "nbformat": 4,
 "nbformat_minor": 5
}
